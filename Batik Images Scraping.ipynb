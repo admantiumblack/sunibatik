{
  "nbformat": 4,
  "nbformat_minor": 2,
  "metadata": {
    "colab": {
      "name": "Batik Images Scraping.ipynb",
      "provenance": [],
      "collapsed_sections": []
    },
    "kernelspec": {
      "name": "python3",
      "display_name": "Python 3"
    },
    "language_info": {
      "name": "python"
    }
  },
  "cells": [
    {
      "cell_type": "markdown",
      "source": [
        "# Batik Images Scraping Using BeautifulSoup4"
      ],
      "metadata": {
        "id": "eKMT178lj1jb"
      }
    },
    {
      "cell_type": "code",
      "execution_count": null,
      "source": [
        "import requests\r\n",
        "from bs4 import BeautifulSoup\r\n",
        "import os"
      ],
      "outputs": [],
      "metadata": {
        "id": "05BaalUXNsQ8"
      }
    },
    {
      "cell_type": "markdown",
      "source": [
        "We would like to save all images that we got into a folder in Google Drive, so we need to set the path in order to directly save the folder to Google Drive.\n",
        "The current working directory is at `/content`. "
      ],
      "metadata": {
        "id": "4PaEWOGJM_rb"
      }
    },
    {
      "cell_type": "code",
      "execution_count": null,
      "source": [
        "os.getcwd()"
      ],
      "outputs": [
        {
          "output_type": "execute_result",
          "data": {
            "application/vnd.google.colaboratory.intrinsic+json": {
              "type": "string"
            },
            "text/plain": [
              "'/content'"
            ]
          },
          "metadata": {},
          "execution_count": 4
        }
      ],
      "metadata": {
        "colab": {
          "base_uri": "https://localhost:8080/",
          "height": 35
        },
        "id": "HVEkxCD4XMoo",
        "outputId": "532fa7a7-f264-42fe-de96-60c99a3bcc0f"
      }
    },
    {
      "cell_type": "markdown",
      "source": [
        "We simply name the folder `Scrapped Images`, in which we will store all the scrapped images. Then, we can use `os` module to set it as our current working directory."
      ],
      "metadata": {
        "id": "TH06Ss2cNiL6"
      }
    },
    {
      "cell_type": "code",
      "execution_count": null,
      "source": [
        "folder_name = 'Scrapped Images'\r\n",
        "path = os.path.join('/content/drive/MyDrive/BOOTCAMP FINAL SEASON/Scholarship/Batik Research', folder_name)\r\n",
        "os.mkdir(path)\r\n",
        "os.chdir(path)"
      ],
      "outputs": [],
      "metadata": {
        "id": "e-6nXpLJjcGv"
      }
    },
    {
      "cell_type": "code",
      "execution_count": null,
      "source": [
        "os.getcwd()"
      ],
      "outputs": [
        {
          "output_type": "execute_result",
          "data": {
            "application/vnd.google.colaboratory.intrinsic+json": {
              "type": "string"
            },
            "text/plain": [
              "'/content/drive/MyDrive/BOOTCAMP FINAL SEASON/Scholarship/Batik Research/Scrapped Images'"
            ]
          },
          "metadata": {},
          "execution_count": 6
        }
      ],
      "metadata": {
        "colab": {
          "base_uri": "https://localhost:8080/",
          "height": 35
        },
        "id": "gsOgr3EAFciW",
        "outputId": "b2ef053c-6682-46d7-fe97-6a09c5af42b6"
      }
    },
    {
      "cell_type": "markdown",
      "source": [
        "After setting the working directory, we can begin scraping several websites that consist of Batik images. To make it simpler, we define a function that takes a website `url` as parameter and scrape all of the images in it. The `web_number` parameter is just a number that is unique for each website."
      ],
      "metadata": {
        "id": "0Q3ENLrsOlUg"
      }
    },
    {
      "cell_type": "code",
      "execution_count": null,
      "source": [
        "def scrape_images(url, web_number):\r\n",
        "    # Get HTML Parser\r\n",
        "    index_html = requests.get(url).text\r\n",
        "    soup = BeautifulSoup(index_html, 'html.parser')\r\n",
        "\r\n",
        "    # Find All Images\r\n",
        "    images = soup.find_all('img')\r\n",
        "\r\n",
        "    # Write Images To Directory\r\n",
        "    i = 1\r\n",
        "    for im in images:\r\n",
        "        file_name = 'web' + str(web_number) + '_' + str(i) + '.jpg'\r\n",
        "        with open(file_name, 'wb') as f:\r\n",
        "            image = requests.get(im['src'])\r\n",
        "            f.write(image.content)\r\n",
        "            i += 1"
      ],
      "outputs": [],
      "metadata": {
        "id": "SYdur5NFNdMX"
      }
    },
    {
      "cell_type": "markdown",
      "source": [
        "Using the defined function above, we just directly call it to get all images in several websites."
      ],
      "metadata": {
        "id": "l7X_m4YFRTwA"
      }
    },
    {
      "cell_type": "markdown",
      "source": [
        "### Web 1"
      ],
      "metadata": {
        "id": "WlR_Kbz3R3tR"
      }
    },
    {
      "cell_type": "code",
      "execution_count": null,
      "source": [
        "scrape_images('https://review.bukalapak.com/fashion/motif-batik-populer-1542', 1)"
      ],
      "outputs": [],
      "metadata": {
        "id": "UEbqWVEPXuAK"
      }
    },
    {
      "cell_type": "markdown",
      "source": [
        "### Web 2"
      ],
      "metadata": {
        "id": "mCdxJeksN3Dk"
      }
    },
    {
      "cell_type": "code",
      "execution_count": null,
      "source": [
        "scrape_images('https://seruni.id/batik-indonesia/', 2)"
      ],
      "outputs": [],
      "metadata": {
        "id": "ZKEOO62CQumX"
      }
    },
    {
      "cell_type": "markdown",
      "source": [
        "### Web 3"
      ],
      "metadata": {
        "id": "Ga4KFBH9SD4m"
      }
    },
    {
      "cell_type": "code",
      "execution_count": null,
      "source": [
        "scrape_images('https://obatrindu.com/motif-batik-tradisional-indonesia/', 3)"
      ],
      "outputs": [],
      "metadata": {
        "id": "o0-i08_r0Buf"
      }
    },
    {
      "cell_type": "markdown",
      "source": [
        "### Web 4"
      ],
      "metadata": {
        "id": "0GDRd1eI0COy"
      }
    },
    {
      "cell_type": "code",
      "execution_count": null,
      "source": [
        "scrape_images('https://hidupsimpel.com/macam-macam-motif-batik-nusantara/', 4)"
      ],
      "outputs": [],
      "metadata": {
        "id": "VSfrIa4j0cXw"
      }
    },
    {
      "cell_type": "markdown",
      "source": [
        "### Web 5"
      ],
      "metadata": {
        "id": "ZsvZem241xEm"
      }
    },
    {
      "cell_type": "code",
      "execution_count": null,
      "source": [
        "scrape_images('https://carakus.com/macam-motif-batik-modern/', 5)"
      ],
      "outputs": [],
      "metadata": {
        "id": "zuIN4lM32uUW"
      }
    },
    {
      "cell_type": "markdown",
      "source": [
        "#### Note:\n",
        "The function `scrape_images()` gets all images in a website because we use the `find_all()` method, in order to make sure that the images are all Batik images, we still have to do some cleaning by removing unwanted images in Google Drive."
      ],
      "metadata": {
        "id": "gpblWlAWSKgT"
      }
    }
  ]
}